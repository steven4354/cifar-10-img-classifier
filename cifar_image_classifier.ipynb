{
 "cells": [
  {
   "cell_type": "code",
   "execution_count": 1,
   "metadata": {},
   "outputs": [
    {
     "name": "stderr",
     "output_type": "stream",
     "text": [
      "Using TensorFlow backend.\n"
     ]
    }
   ],
   "source": [
    "from keras.datasets import cifar10\n",
    "import keras.utils as utils\n",
    "\n",
    "from keras.models import Sequential\n",
    "from keras.layers import Dense, Dropout, Flatten\n",
    "from keras.layers.convolutional import Conv2D, MaxPooling2D\n",
    "from keras.constraints import maxnorm\n",
    "from keras.optimizers import SGD"
   ]
  },
  {
   "cell_type": "code",
   "execution_count": 2,
   "metadata": {},
   "outputs": [],
   "source": [
    "labels = ['airplane', 'automobile', 'bird', 'cat', 'deer', 'dog', 'frog', 'horse', 'ship', 'truck']\n",
    "\n",
    "(x_train, y_train), (x_test, y_test) = cifar10.load_data()\n",
    "\n",
    "x_train = x_train.astype('float32') / 255.0\n",
    "x_test = x_test.astype('float32') / 255.0\n",
    "\n",
    "y_train = utils.to_categorical(y_train)\n",
    "y_test = utils.to_categorical(y_test)"
   ]
  },
  {
   "cell_type": "code",
   "execution_count": 3,
   "metadata": {},
   "outputs": [],
   "source": [
    "# Create the model as a sequential type so that we can add layers in order\n",
    "model = Sequential()\n"
   ]
  },
  {
   "cell_type": "code",
   "execution_count": 4,
   "metadata": {},
   "outputs": [],
   "source": [
    "# Add the first convolution to output a feature map\n",
    "# filters: output 32 features\n",
    "# kernel_size: 3x3 kernel or filter matrix used to calculate output features\n",
    "# input_shape: each image is 32x32x3\n",
    "# activation: relu activation for each of the operations as it produces the best results\n",
    "# padding: 'same' adds padding to the input image to make sure that the output feature map is the same size as the input\n",
    "# kernel_constraint: maxnorm normalizes the values in the kernel to make sure that the max value is 3\n",
    "model.add(Conv2D(filters=32, kernel_size=(3, 3), input_shape=(32, 32, 3), activation='relu', padding='same',\n",
    "                 kernel_constraint=maxnorm(3)))\n"
   ]
  },
  {
   "cell_type": "code",
   "execution_count": null,
   "metadata": {},
   "outputs": [
    {
     "name": "stdout",
     "output_type": "stream",
     "text": [
      "done\n"
     ]
    }
   ],
   "source": [
    "# Add the max pool layer to decrease the image size from 32x32 to 16x16\n",
    "# pool_size: finds the max value in each 2x2 section of the input\n",
    "model.add(MaxPooling2D(pool_size=(2, 2)))\n",
    "\n",
    "print(\"done\")\n"
   ]
  },
  {
   "cell_type": "code",
   "execution_count": null,
   "metadata": {},
   "outputs": [
    {
     "name": "stdout",
     "output_type": "stream",
     "text": [
      "Epoch 1/10\n",
      " 2016/50000 [>.............................] - ETA: 1:13 - loss: 2.3403 - acc: 0.0977"
     ]
    }
   ],
   "source": [
    "# Flatten layer converts a matrix into a 1 dimensional array\n",
    "model.add(Flatten())\n",
    "# First dense layer to create the actual prediction network\n",
    "# units: 512 neurons at this layer, increase for greater accuracy, decrease for faster train speed\n",
    "# activation: relu because it works so well\n",
    "# kernel_constraint: see above\n",
    "model.add(Dense(units=512, activation='relu', kernel_constraint=maxnorm(3)))\n",
    "# Dropout layer to ignore some neurons during training which improves model reliability\n",
    "# rate: 0.5 means half neurons dropped\n",
    "model.add(Dropout(rate=0.5))\n",
    "# Final dense layer used to produce output for each of the 10 categories\n",
    "# units: 10 categories so 10 output units\n",
    "# activation: softmax because we are calculating probabilities for each of the 10 categories (not as clear as 0 or 1)\n",
    "model.add(Dense(units=10, activation='softmax'))\n",
    "\n",
    "model.compile(optimizer=SGD(lr=0.001), loss='categorical_crossentropy', metrics=['accuracy'])\n",
    "\n",
    "model.fit(x=x_train, y=y_train, epochs=10, batch_size=32)"
   ]
  },
  {
   "cell_type": "code",
   "execution_count": null,
   "metadata": {},
   "outputs": [],
   "source": []
  }
 ],
 "metadata": {
  "kernelspec": {
   "display_name": "Python 3",
   "language": "python",
   "name": "python3"
  },
  "language_info": {
   "codemirror_mode": {
    "name": "ipython",
    "version": 3
   },
   "file_extension": ".py",
   "mimetype": "text/x-python",
   "name": "python",
   "nbconvert_exporter": "python",
   "pygments_lexer": "ipython3",
   "version": "3.6.4"
  }
 },
 "nbformat": 4,
 "nbformat_minor": 2
}
